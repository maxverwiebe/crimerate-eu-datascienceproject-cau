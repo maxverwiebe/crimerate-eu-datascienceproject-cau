{
 "cells": [
  {
   "cell_type": "markdown",
   "metadata": {},
   "source": [
    "# Question: How does crime distribution vary by gender across the European countries?"
   ]
  },
  {
   "cell_type": "code",
   "execution_count": 50,
   "metadata": {},
   "outputs": [],
   "source": [
    "import pandas as pd\n",
    "import plotly.express as px\n",
    "import dash\n",
    "from dash import dcc, html\n",
    "from dash.dependencies import Input, Output\n",
    "import ipywidgets as widgets\n",
    "from IPython.display import display\n",
    "from joypy import joyplot\n",
    "from es_ds_loader import *\n",
    "import joypy\n",
    "import matplotlib.pyplot as plt"
   ]
  },
  {
   "cell_type": "code",
   "execution_count": null,
   "metadata": {},
   "outputs": [
    {
     "name": "stdout",
     "output_type": "stream",
     "text": [
      "(('format', 'json'),)\n",
      "('hlth_dhc130', frozenset({('format', 'json')}))\n"
     ]
    }
   ],
   "source": [
    "loader = EurostatDataLoader(cache_expiry=1800)\n",
    "df = loader.load_dataset('ilc_mddw06')"
   ]
  },
  {
   "cell_type": "markdown",
   "metadata": {},
   "source": [
    "Plot 1: Crime trends by age group over time\n",
    "Joyplot: x-axis = year, y-axis = age groups, parameter = countries\n",
    "\n"
   ]
  },
  {
   "cell_type": "code",
   "execution_count": 52,
   "metadata": {},
   "outputs": [
    {
     "name": "stdout",
     "output_type": "stream",
     "text": [
      "         freq        unit lev_limit               age      sex  \\\n",
      "4860   Annual  Percentage     Total  16 years or over    Total   \n",
      "4861   Annual  Percentage     Total  16 years or over    Total   \n",
      "4862   Annual  Percentage     Total  16 years or over    Total   \n",
      "4863   Annual  Percentage     Total  16 years or over    Total   \n",
      "4864   Annual  Percentage     Total  16 years or over    Total   \n",
      "...       ...         ...       ...               ...      ...   \n",
      "64784  Annual  Percentage      None  16 years or over  Females   \n",
      "64785  Annual  Percentage      None  16 years or over  Females   \n",
      "64786  Annual  Percentage      None  16 years or over  Females   \n",
      "64787  Annual  Percentage      None  16 years or over  Females   \n",
      "64796  Annual  Percentage      None  16 years or over  Females   \n",
      "\n",
      "                                                     geo  time  value  \n",
      "4860   European Union (EU6-1958, EU9-1973, EU10-1981,...  2010   14.1  \n",
      "4861   European Union (EU6-1958, EU9-1973, EU10-1981,...  2011   14.0  \n",
      "4862   European Union (EU6-1958, EU9-1973, EU10-1981,...  2012   13.5  \n",
      "4863   European Union (EU6-1958, EU9-1973, EU10-1981,...  2013   14.3  \n",
      "4864   European Union (EU6-1958, EU9-1973, EU10-1981,...  2014   13.9  \n",
      "...                                                  ...   ...    ...  \n",
      "64784                                            Türkiye  2018   10.9  \n",
      "64785                                            Türkiye  2019   10.7  \n",
      "64786                                            Türkiye  2020    9.8  \n",
      "64787                                            Türkiye  2023   10.2  \n",
      "64796                                            Kosovo*  2018    2.2  \n",
      "\n",
      "[7290 rows x 8 columns]\n"
     ]
    }
   ],
   "source": [
    "df = df.dropna()\n",
    "df = df[df['age'] == '16 years or over']\n",
    "print(df)\n",
    "df = df[['geo', 'time', 'sex', 'value']]\n",
    "\n"
   ]
  },
  {
   "cell_type": "code",
   "execution_count": 53,
   "metadata": {},
   "outputs": [
    {
     "name": "stdout",
     "output_type": "stream",
     "text": [
      "['European Union (EU6-1958, EU9-1973, EU10-1981, EU12-1986, EU15-1995, EU25-2004, EU27-2007, EU28-2013, EU27-2020)'\n",
      " 'European Union - 27 countries (from 2020)'\n",
      " 'European Union - 28 countries (2013-2020)'\n",
      " 'European Union - 27 countries (2007-2013)'\n",
      " 'Euro area (EA11-1999, EA12-2001, EA13-2007, EA15-2008, EA16-2009, EA17-2011, EA18-2014, EA19-2015, EA20-2023)'\n",
      " 'Euro area – 20 countries (from 2023)'\n",
      " 'Euro area - 19 countries  (2015-2022)' 'Euro area - 18 countries (2014)'\n",
      " 'Belgium' 'Bulgaria' 'Czechia' 'Denmark' 'Germany' 'Estonia' 'Ireland'\n",
      " 'Greece' 'Spain' 'France' 'Croatia' 'Italy' 'Cyprus' 'Latvia' 'Lithuania'\n",
      " 'Luxembourg' 'Hungary' 'Malta' 'Netherlands' 'Austria' 'Poland'\n",
      " 'Portugal' 'Romania' 'Slovenia' 'Slovakia' 'Finland' 'Sweden' 'Iceland'\n",
      " 'Norway' 'Switzerland' 'United Kingdom' 'Montenegro' 'North Macedonia'\n",
      " 'Albania' 'Serbia' 'Türkiye' 'Kosovo*']\n"
     ]
    }
   ],
   "source": [
    "print(df['geo'].unique())"
   ]
  },
  {
   "cell_type": "code",
   "execution_count": 54,
   "metadata": {},
   "outputs": [
    {
     "name": "stdout",
     "output_type": "stream",
     "text": [
      "['2010' '2011' '2012' '2013' '2014' '2015' '2016' '2017' '2018' '2019'\n",
      " '2020' '2023']\n"
     ]
    }
   ],
   "source": [
    "print(df['time'].unique())"
   ]
  },
  {
   "cell_type": "code",
   "execution_count": 55,
   "metadata": {},
   "outputs": [
    {
     "name": "stdout",
     "output_type": "stream",
     "text": [
      "['2010' '2011' '2012' '2013' '2014' '2015' '2016' '2017' '2018' '2019'\n",
      " '2020' '2023']\n",
      "                                             geo  time      sex  value\n",
      "4872   European Union - 27 countries (from 2020)  2010    Total   13.0\n",
      "4873   European Union - 27 countries (from 2020)  2011    Total   13.1\n",
      "4874   European Union - 27 countries (from 2020)  2012    Total   12.6\n",
      "4875   European Union - 27 countries (from 2020)  2013    Total   14.0\n",
      "4876   European Union - 27 countries (from 2020)  2014    Total   13.6\n",
      "...                                          ...   ...      ...    ...\n",
      "64279  European Union - 27 countries (from 2020)  2017  Females   10.8\n",
      "64280  European Union - 27 countries (from 2020)  2018  Females   10.9\n",
      "64281  European Union - 27 countries (from 2020)  2019  Females   10.1\n",
      "64282  European Union - 27 countries (from 2020)  2020  Females   10.0\n",
      "64283  European Union - 27 countries (from 2020)  2023  Females    9.1\n",
      "\n",
      "[180 rows x 4 columns]\n"
     ]
    }
   ],
   "source": [
    "eu_27_df = df[df['geo'] == 'European Union - 27 countries (from 2020)']\n",
    "\n",
    "# Gib die Werte für die Jahre aus\n",
    "print(eu_27_df['time'].unique())\n",
    "\n",
    "print(eu_27_df)"
   ]
  },
  {
   "cell_type": "code",
   "execution_count": null,
   "metadata": {},
   "outputs": [],
   "source": []
  }
 ],
 "metadata": {
  "kernelspec": {
   "display_name": "venv",
   "language": "python",
   "name": "python3"
  },
  "language_info": {
   "codemirror_mode": {
    "name": "ipython",
    "version": 3
   },
   "file_extension": ".py",
   "mimetype": "text/x-python",
   "name": "python",
   "nbconvert_exporter": "python",
   "pygments_lexer": "ipython3",
   "version": "3.10.16"
  }
 },
 "nbformat": 4,
 "nbformat_minor": 4
}
