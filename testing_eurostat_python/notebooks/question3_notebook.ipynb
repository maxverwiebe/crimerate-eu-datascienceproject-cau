{
 "cells": [
  {
   "cell_type": "markdown",
   "metadata": {},
   "source": [
    "# Question: How do legal status and gender influence involvement in bribery and corruption across European countries?"
   ]
  },
  {
   "cell_type": "code",
   "execution_count": 187,
   "metadata": {},
   "outputs": [],
   "source": [
    "import pandas as pd\n",
    "import plotly.express as px\n",
    "import dash\n",
    "from dash import dcc, html\n",
    "from dash.dependencies import Input, Output\n",
    "import ipywidgets as widgets\n",
    "from IPython.display import display\n",
    "from joypy import joyplot\n",
    "from es_ds_loader import *\n",
    "import joypy\n",
    "import matplotlib.pyplot as plt"
   ]
  },
  {
   "cell_type": "code",
   "execution_count": 188,
   "metadata": {},
   "outputs": [
    {
     "name": "stdout",
     "output_type": "stream",
     "text": [
      "(('format', 'json'),)\n",
      "('crim_just_bri', frozenset({('format', 'json')}))\n"
     ]
    }
   ],
   "source": [
    "loader = EurostatDataLoader(cache_expiry=1800)\n",
    "df = loader.load_dataset('crim_just_bri')"
   ]
  },
  {
   "cell_type": "code",
   "execution_count": 189,
   "metadata": {},
   "outputs": [
    {
     "data": {
      "text/plain": [
       "\"#print(df)\\ndf = df.dropna()\\ndf = df[['geo', 'time', 'sex', 'leg_stat', 'unit', 'value']]\\ndf = df[df['sex'] == 'Total']\\nprint(df)\""
      ]
     },
     "execution_count": 189,
     "metadata": {},
     "output_type": "execute_result"
    }
   ],
   "source": [
    "\"\"\"#print(df)\n",
    "df = df.dropna()\n",
    "df = df[['geo', 'time', 'sex', 'leg_stat', 'unit', 'value']]\n",
    "df = df[df['sex'] == 'Total']\n",
    "print(df)\"\"\" # chart 1 (heatmap)"
   ]
  },
  {
   "cell_type": "markdown",
   "metadata": {},
   "source": [
    "Plot 1: Crime trends by age group over time\n",
    "Joyplot: x-axis = year, y-axis = age groups, parameter = countries\n",
    "\n"
   ]
  },
  {
   "cell_type": "code",
   "execution_count": 190,
   "metadata": {},
   "outputs": [
    {
     "data": {
      "text/plain": [
       "\" \\n\\n# 1. Dein DataFrame vorbereiten # chart 2 (piechart)\\ndf = df.dropna()\\ndf = df[['geo', 'time', 'sex', 'leg_stat', 'unit', 'value']]\\n\\n# 2. Zeilen ohne 'Total' im Geschlecht herausfiltern\\nfiltered_df = df[df['sex'] = 'Total']\\n\\n# 3. Gruppierung nach 'geo', 'time', 'leg_stat', 'sex' und 'unit', Berechnung der Summe für 'value'\\ngrouped_df = filtered_df.groupby(['geo', 'time', 'leg_stat', 'sex', 'unit'])['value'].sum().reset_index()\\n\\n# 4. Berechnung der Gesamtzahl pro 'geo', 'time', 'leg_stat' (unter Berücksichtigung der 'unit')\\ntotal_for_leg_stat = grouped_df.groupby(['geo', 'time', 'leg_stat', 'unit'])['value'].transform('sum')\\n\\n# 5. Berechnung des Prozentsatzes und Hinzufügen der Spalte\\ngrouped_df['percentage'] = (grouped_df['value'] / total_for_leg_stat) * 100\\n\\n# 6. Ergebnis anzeigen\\nprint(grouped_df)\\n\""
      ]
     },
     "execution_count": 190,
     "metadata": {},
     "output_type": "execute_result"
    }
   ],
   "source": [
    "\"\"\" \n",
    "\n",
    "# 1. Dein DataFrame vorbereiten # chart 2 (piechart)\n",
    "df = df.dropna()\n",
    "df = df[['geo', 'time', 'sex', 'leg_stat', 'unit', 'value']]\n",
    "\n",
    "# 2. Zeilen ohne 'Total' im Geschlecht herausfiltern\n",
    "filtered_df = df[df['sex'] = 'Total']\n",
    "\n",
    "# 3. Gruppierung nach 'geo', 'time', 'leg_stat', 'sex' und 'unit', Berechnung der Summe für 'value'\n",
    "grouped_df = filtered_df.groupby(['geo', 'time', 'leg_stat', 'sex', 'unit'])['value'].sum().reset_index()\n",
    "\n",
    "# 4. Berechnung der Gesamtzahl pro 'geo', 'time', 'leg_stat' (unter Berücksichtigung der 'unit')\n",
    "total_for_leg_stat = grouped_df.groupby(['geo', 'time', 'leg_stat', 'unit'])['value'].transform('sum')\n",
    "\n",
    "# 5. Berechnung des Prozentsatzes und Hinzufügen der Spalte\n",
    "grouped_df['percentage'] = (grouped_df['value'] / total_for_leg_stat) * 100\n",
    "\n",
    "# 6. Ergebnis anzeigen\n",
    "print(grouped_df)\n",
    "\"\"\""
   ]
  },
  {
   "cell_type": "code",
   "execution_count": 191,
   "metadata": {},
   "outputs": [
    {
     "data": {
      "text/html": [
       "\n",
       "        <iframe\n",
       "            width=\"100%\"\n",
       "            height=\"650\"\n",
       "            src=\"http://127.0.0.1:8050/\"\n",
       "            frameborder=\"0\"\n",
       "            allowfullscreen\n",
       "            \n",
       "        ></iframe>\n",
       "        "
      ],
      "text/plain": [
       "<IPython.lib.display.IFrame at 0x1094a2d40>"
      ]
     },
     "metadata": {},
     "output_type": "display_data"
    },
    {
     "name": "stdout",
     "output_type": "stream",
     "text": [
      "           leg_stat      sex  value  percentage\n",
      "0  Convicted person  Females   20.0   16.129032\n",
      "1  Convicted person    Males  104.0   83.870968\n",
      "2  Suspected person  Females   38.0   10.614525\n",
      "3  Suspected person    Males  320.0   89.385475\n"
     ]
    }
   ],
   "source": [
    "import pandas as pd\n",
    "import plotly.express as px\n",
    "from dash import Dash, dcc, html, Output, Input\n",
    "\n",
    "# Beispiel-Daten (laden deinen Datensatz)\n",
    "# df = pd.read_csv(\"dein_datensatz.csv\")\n",
    "\n",
    "# Filter-Optionen erstellen\n",
    "countries = sorted(df['geo'].unique())\n",
    "years = sorted(df['time'].unique())\n",
    "units = sorted(df['unit'].unique())\n",
    "\n",
    "# Dash App Setup\n",
    "app = Dash(__name__)\n",
    "\n",
    "app.layout = html.Div([\n",
    "    html.H1(\"Nested Pie Chart - Legal Status & Sex\", style={'textAlign': 'center'}),\n",
    "\n",
    "    # Dropdowns für Filter\n",
    "    html.Div([\n",
    "        html.Label('Land:'),\n",
    "        dcc.Dropdown(\n",
    "            options=[{'label': c, 'value': c} for c in countries],\n",
    "            value=countries[0],\n",
    "            id='country-dropdown'\n",
    "        ),\n",
    "    ], style={'width': '30%', 'display': 'inline-block', 'padding': '10px'}),\n",
    "\n",
    "    html.Div([\n",
    "        html.Label('Jahr:'),\n",
    "        dcc.Dropdown(\n",
    "            options=[{'label': y, 'value': y} for y in years],\n",
    "            value=years[0],\n",
    "            id='year-dropdown'\n",
    "        ),\n",
    "    ], style={'width': '30%', 'display': 'inline-block', 'padding': '10px'}),\n",
    "\n",
    "    html.Div([\n",
    "        html.Label('Unit:'),\n",
    "        dcc.Dropdown(\n",
    "            options=[{'label': u, 'value': u} for u in units],\n",
    "            value=units[0],\n",
    "            id='unit-dropdown'\n",
    "        ),\n",
    "    ], style={'width': '30%', 'display': 'inline-block', 'padding': '10px'}),\n",
    "\n",
    "    # Graph für das Nested Pie Chart\n",
    "    dcc.Graph(id='nested-pie-chart'),\n",
    "    \n",
    "    # Tabelle, die die Prozentsätze anzeigt\n",
    "    html.Div(id='table-output')\n",
    "])\n",
    "\n",
    "\n",
    "# Callback für das Nested Pie Chart und die Tabelle mit Prozentwerten\n",
    "@app.callback(\n",
    "    [Output('nested-pie-chart', 'figure'),\n",
    "     Output('table-output', 'children')],\n",
    "    Input('country-dropdown', 'value'),\n",
    "    Input('year-dropdown', 'value'),\n",
    "    Input('unit-dropdown', 'value')\n",
    ")\n",
    "def update_pie(selected_country, selected_year, selected_unit):\n",
    "    # Filtern des DataFrames basierend auf den Dropdown-Auswahlen\n",
    "    filtered_df = df[\n",
    "        (df['geo'] == selected_country) &\n",
    "        (df['time'] == selected_year) &\n",
    "        (df['unit'] == selected_unit)\n",
    "    ]\n",
    "    \n",
    "    # **Zeilen ohne 'Total' im Geschlecht herausfiltern**\n",
    "    filtered_df = filtered_df[filtered_df['sex'] != 'Total']\n",
    "\n",
    "    # Gruppierung nach Legal Status und Sex und Berechnung der Gesamtzahl für Legal Status\n",
    "    pie_data = filtered_df.groupby(['leg_stat', 'sex'])['value'].sum().reset_index()\n",
    "\n",
    "    # Berechnung der Gesamtzahl für den Legal Status\n",
    "    total_per_leg_stat = pie_data.groupby('leg_stat')['value'].transform('sum')\n",
    "\n",
    "    # Berechnung des Prozentsatzes\n",
    "    pie_data['percentage'] = (pie_data['value'] / total_per_leg_stat) * 100\n",
    "    print(pie_data)\n",
    "\n",
    "    # Erstellen des Nested Pie Charts\n",
    "    fig = px.sunburst(\n",
    "        pie_data,\n",
    "        path=['leg_stat', 'sex'],  # Hierarchie: Legal Status -> Sex\n",
    "        values='value',  # Größe der Segmente\n",
    "        title=f\"Nested Pie Chart für {selected_country} ({selected_year}) - {selected_unit}\",\n",
    "        hover_data=[\"percentage\"]  # Zeige den Prozentsatz im Hover\n",
    "    )\n",
    "\n",
    "    # Generiere eine Tabelle, die die Prozentsätze anzeigt\n",
    "    table_data = pie_data[['leg_stat', 'sex', 'value', 'percentage']]\n",
    "\n",
    "    table_html = html.Table([\n",
    "        html.Thead(\n",
    "            html.Tr([html.Th(col) for col in table_data.columns])\n",
    "        ),\n",
    "        html.Tbody([\n",
    "            html.Tr([\n",
    "                html.Td(row['leg_stat']),\n",
    "                html.Td(row['sex']),\n",
    "                html.Td(row['value']),\n",
    "                html.Td(f\"{row['percentage']:.2f}%\")\n",
    "            ]) for _, row in table_data.iterrows()\n",
    "        ])\n",
    "    ])\n",
    "\n",
    "    return fig, table_html\n",
    "\n",
    "\n",
    "# App starten\n",
    "if __name__ == '__main__':\n",
    "    app.run_server(debug=True)\n"
   ]
  },
  {
   "cell_type": "code",
   "execution_count": 192,
   "metadata": {},
   "outputs": [
    {
     "name": "stdout",
     "output_type": "stream",
     "text": [
      "           leg_stat      sex     value  percentage\n",
      "0  Convicted person  Females   2822.88   11.353944\n",
      "1  Convicted person    Males  22039.67   88.646056\n",
      "2  Suspected person  Females  11741.54   13.564436\n",
      "3  Suspected person    Males  74819.67   86.435564\n"
     ]
    }
   ],
   "source": [
    "print(pie_data)"
   ]
  },
  {
   "cell_type": "code",
   "execution_count": 193,
   "metadata": {},
   "outputs": [
    {
     "data": {
      "text/plain": [
       "'import pandas as pd\\nimport plotly.express as px\\nimport pycountry\\nfrom dash import Dash, dcc, html, Output, Input\\n\\n# 1. CSV laden\\n\\n\\n# 2. Länder-Korrektur\\ncountry_corrections = {\\n    \"Türkiye\": \"Turkey\",\\n    \"Czechia\": \"Czech Republic\",\\n    \"Kosovo*\": \"Kosovo\",\\n    \"North Macedonia\": \"Macedonia\",\\n    \"United Kingdom\": \"United Kingdom\",\\n    \"Russian Federation\": \"Russia\",\\n    \"Bosnia and Herzegovina\": \"Bosnia and Herzegovina\"\\n}\\n\\ndef get_iso3_fixed(country_name):\\n    name = country_corrections.get(country_name, country_name)\\n    try:\\n        return pycountry.countries.lookup(name).alpha_3\\n    except:\\n        return None\\n\\ndf = df[df[\\'sex\\'] == \\'Total\\']\\ndf[\\'iso_alpha\\'] = df[\\'geo\\'].apply(get_iso3_fixed)\\ndf = df.dropna(subset=[\\'iso_alpha\\'])\\n\\n# 3. Unique Filter-Optionen\\nyears = sorted(df[\\'time\\'].unique())\\nleg_stats = sorted(df[\\'leg_stat\\'].unique())\\nunits = sorted(df[\\'unit\\'].unique())\\n\\n# 4. Dash App Setup\\napp = Dash(__name__)\\n\\napp.layout = html.Div([\\n    html.H1(\"Europa Heatmap - Legal Status Analyse\", style={\\'textAlign\\': \\'center\\'}),\\n\\n    html.Div([\\n        html.Label(\\'Jahr:\\'),\\n        dcc.Dropdown(\\n            options=[{\\'label\\': y, \\'value\\': y} for y in years],\\n            value=years[0],\\n            id=\\'year-dropdown\\'\\n        ),\\n    ], style={\\'width\\': \\'30%\\', \\'display\\': \\'inline-block\\', \\'padding\\': \\'10px\\'}),\\n\\n    html.Div([\\n        html.Label(\\'Legal Status:\\'),\\n        dcc.Dropdown(\\n            options=[{\\'label\\': l, \\'value\\': l} for l in leg_stats],\\n            value=leg_stats[0],\\n            id=\\'legstat-dropdown\\'\\n        ),\\n    ], style={\\'width\\': \\'30%\\', \\'display\\': \\'inline-block\\', \\'padding\\': \\'10px\\'}),\\n\\n    html.Div([\\n        html.Label(\\'Unit:\\'),\\n        dcc.Dropdown(\\n            options=[{\\'label\\': u, \\'value\\': u} for u in units],\\n            value=units[0],\\n            id=\\'unit-dropdown\\'\\n        ),\\n    ], style={\\'width\\': \\'30%\\', \\'display\\': \\'inline-block\\', \\'padding\\': \\'10px\\'}),\\n\\n    dcc.Graph(id=\\'heatmap\\')\\n])\\n\\n\\n# 5. Callback für Interaktivität\\n@app.callback(\\n    Output(\\'heatmap\\', \\'figure\\'),\\n    Input(\\'year-dropdown\\', \\'value\\'),\\n    Input(\\'legstat-dropdown\\', \\'value\\'),\\n    Input(\\'unit-dropdown\\', \\'value\\')\\n)\\ndef update_map(selected_year, selected_legstat, selected_unit):\\n    filtered_df = df[\\n        (df[\\'time\\'] == selected_year) &\\n        (df[\\'leg_stat\\'] == selected_legstat) &\\n        (df[\\'unit\\'] == selected_unit)\\n    ]\\n\\n    fig = px.choropleth(\\n        filtered_df,\\n        locations=\"iso_alpha\",\\n        color=\"value\",\\n        hover_name=\"geo\",\\n        color_continuous_scale=\"Reds\",\\n        scope=\"europe\",\\n        title=f\"Heatmap {selected_legstat} ({selected_year}) - Unit: {selected_unit}\"\\n    )\\n\\n    fig.update_geos(showcountries=True, showcoastlines=True, showland=True, fitbounds=\"locations\")\\n    return fig\\n\\n\\nif __name__ == \\'__main__\\':\\n    app.run_server(debug=True)\\n'"
      ]
     },
     "execution_count": 193,
     "metadata": {},
     "output_type": "execute_result"
    }
   ],
   "source": [
    "\"\"\"import pandas as pd\n",
    "import plotly.express as px\n",
    "import pycountry\n",
    "from dash import Dash, dcc, html, Output, Input\n",
    "\n",
    "# 1. CSV laden\n",
    "\n",
    "\n",
    "# 2. Länder-Korrektur\n",
    "country_corrections = {\n",
    "    \"Türkiye\": \"Turkey\",\n",
    "    \"Czechia\": \"Czech Republic\",\n",
    "    \"Kosovo*\": \"Kosovo\",\n",
    "    \"North Macedonia\": \"Macedonia\",\n",
    "    \"United Kingdom\": \"United Kingdom\",\n",
    "    \"Russian Federation\": \"Russia\",\n",
    "    \"Bosnia and Herzegovina\": \"Bosnia and Herzegovina\"\n",
    "}\n",
    "\n",
    "def get_iso3_fixed(country_name):\n",
    "    name = country_corrections.get(country_name, country_name)\n",
    "    try:\n",
    "        return pycountry.countries.lookup(name).alpha_3\n",
    "    except:\n",
    "        return None\n",
    "\n",
    "df = df[df['sex'] == 'Total']\n",
    "df['iso_alpha'] = df['geo'].apply(get_iso3_fixed)\n",
    "df = df.dropna(subset=['iso_alpha'])\n",
    "\n",
    "# 3. Unique Filter-Optionen\n",
    "years = sorted(df['time'].unique())\n",
    "leg_stats = sorted(df['leg_stat'].unique())\n",
    "units = sorted(df['unit'].unique())\n",
    "\n",
    "# 4. Dash App Setup\n",
    "app = Dash(__name__)\n",
    "\n",
    "app.layout = html.Div([\n",
    "    html.H1(\"Europa Heatmap - Legal Status Analyse\", style={'textAlign': 'center'}),\n",
    "\n",
    "    html.Div([\n",
    "        html.Label('Jahr:'),\n",
    "        dcc.Dropdown(\n",
    "            options=[{'label': y, 'value': y} for y in years],\n",
    "            value=years[0],\n",
    "            id='year-dropdown'\n",
    "        ),\n",
    "    ], style={'width': '30%', 'display': 'inline-block', 'padding': '10px'}),\n",
    "\n",
    "    html.Div([\n",
    "        html.Label('Legal Status:'),\n",
    "        dcc.Dropdown(\n",
    "            options=[{'label': l, 'value': l} for l in leg_stats],\n",
    "            value=leg_stats[0],\n",
    "            id='legstat-dropdown'\n",
    "        ),\n",
    "    ], style={'width': '30%', 'display': 'inline-block', 'padding': '10px'}),\n",
    "\n",
    "    html.Div([\n",
    "        html.Label('Unit:'),\n",
    "        dcc.Dropdown(\n",
    "            options=[{'label': u, 'value': u} for u in units],\n",
    "            value=units[0],\n",
    "            id='unit-dropdown'\n",
    "        ),\n",
    "    ], style={'width': '30%', 'display': 'inline-block', 'padding': '10px'}),\n",
    "\n",
    "    dcc.Graph(id='heatmap')\n",
    "])\n",
    "\n",
    "\n",
    "# 5. Callback für Interaktivität\n",
    "@app.callback(\n",
    "    Output('heatmap', 'figure'),\n",
    "    Input('year-dropdown', 'value'),\n",
    "    Input('legstat-dropdown', 'value'),\n",
    "    Input('unit-dropdown', 'value')\n",
    ")\n",
    "def update_map(selected_year, selected_legstat, selected_unit):\n",
    "    filtered_df = df[\n",
    "        (df['time'] == selected_year) &\n",
    "        (df['leg_stat'] == selected_legstat) &\n",
    "        (df['unit'] == selected_unit)\n",
    "    ]\n",
    "\n",
    "    fig = px.choropleth(\n",
    "        filtered_df,\n",
    "        locations=\"iso_alpha\",\n",
    "        color=\"value\",\n",
    "        hover_name=\"geo\",\n",
    "        color_continuous_scale=\"Reds\",\n",
    "        scope=\"europe\",\n",
    "        title=f\"Heatmap {selected_legstat} ({selected_year}) - Unit: {selected_unit}\"\n",
    "    )\n",
    "\n",
    "    fig.update_geos(showcountries=True, showcoastlines=True, showland=True, fitbounds=\"locations\")\n",
    "    return fig\n",
    "\n",
    "\n",
    "if __name__ == '__main__':\n",
    "    app.run_server(debug=True)\n",
    "\"\"\""
   ]
  },
  {
   "cell_type": "code",
   "execution_count": null,
   "metadata": {},
   "outputs": [],
   "source": []
  }
 ],
 "metadata": {
  "kernelspec": {
   "display_name": "venv",
   "language": "python",
   "name": "python3"
  },
  "language_info": {
   "codemirror_mode": {
    "name": "ipython",
    "version": 3
   },
   "file_extension": ".py",
   "mimetype": "text/x-python",
   "name": "python",
   "nbconvert_exporter": "python",
   "pygments_lexer": "ipython3",
   "version": "3.10.16"
  }
 },
 "nbformat": 4,
 "nbformat_minor": 4
}
