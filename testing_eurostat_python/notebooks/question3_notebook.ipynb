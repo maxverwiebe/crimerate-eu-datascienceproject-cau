{
 "cells": [
  {
   "cell_type": "markdown",
   "metadata": {},
   "source": [
    "# Question: How do legal status and gender influence involvement in bribery and corruption across European countries?"
   ]
  },
  {
   "cell_type": "code",
   "execution_count": 5,
   "metadata": {},
   "outputs": [],
   "source": [
    "import pandas as pd\n",
    "import plotly.express as px\n",
    "import dash\n",
    "from dash import dcc, html\n",
    "from dash.dependencies import Input, Output\n",
    "import ipywidgets as widgets\n",
    "from IPython.display import display\n",
    "from joypy import joyplot\n",
    "from es_ds_loader import *\n",
    "import joypy\n",
    "import matplotlib.pyplot as plt"
   ]
  },
  {
   "cell_type": "code",
   "execution_count": 6,
   "metadata": {},
   "outputs": [
    {
     "name": "stdout",
     "output_type": "stream",
     "text": [
      "(('format', 'json'),)\n",
      "('crim_just_bri', frozenset({('format', 'json')}))\n"
     ]
    }
   ],
   "source": [
    "loader = EurostatDataLoader(cache_expiry=1800)\n",
    "df = loader.load_dataset('crim_just_bri')"
   ]
  },
  {
   "cell_type": "markdown",
   "metadata": {},
   "source": [
    "Plot 1: Crime trends by age group over time\n",
    "Joyplot: x-axis = year, y-axis = age groups, parameter = countries\n",
    "\n"
   ]
  },
  {
   "cell_type": "code",
   "execution_count": 7,
   "metadata": {},
   "outputs": [
    {
     "name": "stdout",
     "output_type": "stream",
     "text": [
      "        freq          leg_stat      sex                              unit  \\\n",
      "0     Annual  Suspected person    Total                            Number   \n",
      "1     Annual  Suspected person    Total                            Number   \n",
      "2     Annual  Suspected person    Total                            Number   \n",
      "3     Annual  Suspected person    Total                            Number   \n",
      "4     Annual  Suspected person    Total                            Number   \n",
      "...      ...               ...      ...                               ...   \n",
      "2851  Annual  Convicted person  Females  Per hundred thousand inhabitants   \n",
      "2852  Annual  Convicted person  Females  Per hundred thousand inhabitants   \n",
      "2853  Annual  Convicted person  Females  Per hundred thousand inhabitants   \n",
      "2854  Annual  Convicted person  Females  Per hundred thousand inhabitants   \n",
      "2855  Annual  Convicted person  Females  Per hundred thousand inhabitants   \n",
      "\n",
      "          geo  time  value  \n",
      "0     Belgium  2016  48.00  \n",
      "1     Belgium  2017  42.00  \n",
      "2     Belgium  2018  51.00  \n",
      "3     Belgium  2019  61.00  \n",
      "4     Belgium  2020  34.00  \n",
      "...       ...   ...    ...  \n",
      "2851  Kosovo*  2018   0.11  \n",
      "2852  Kosovo*  2019   0.44  \n",
      "2853  Kosovo*  2020    NaN  \n",
      "2854  Kosovo*  2021    NaN  \n",
      "2855  Kosovo*  2022    NaN  \n",
      "\n",
      "[2856 rows x 7 columns]\n"
     ]
    }
   ],
   "source": [
    "print(df)"
   ]
  },
  {
   "cell_type": "code",
   "execution_count": 8,
   "metadata": {},
   "outputs": [
    {
     "name": "stdout",
     "output_type": "stream",
     "text": [
      "        freq          leg_stat      sex                              unit  \\\n",
      "0     Annual  Suspected person    Total                            Number   \n",
      "1     Annual  Suspected person    Total                            Number   \n",
      "2     Annual  Suspected person    Total                            Number   \n",
      "3     Annual  Suspected person    Total                            Number   \n",
      "4     Annual  Suspected person    Total                            Number   \n",
      "...      ...               ...      ...                               ...   \n",
      "2848  Annual  Convicted person  Females  Per hundred thousand inhabitants   \n",
      "2849  Annual  Convicted person  Females  Per hundred thousand inhabitants   \n",
      "2850  Annual  Convicted person  Females  Per hundred thousand inhabitants   \n",
      "2851  Annual  Convicted person  Females  Per hundred thousand inhabitants   \n",
      "2852  Annual  Convicted person  Females  Per hundred thousand inhabitants   \n",
      "\n",
      "          geo  time  value  \n",
      "0     Belgium  2016  48.00  \n",
      "1     Belgium  2017  42.00  \n",
      "2     Belgium  2018  51.00  \n",
      "3     Belgium  2019  61.00  \n",
      "4     Belgium  2020  34.00  \n",
      "...       ...   ...    ...  \n",
      "2848  Türkiye  2022   0.05  \n",
      "2849  Kosovo*  2016   0.00  \n",
      "2850  Kosovo*  2017   0.00  \n",
      "2851  Kosovo*  2018   0.11  \n",
      "2852  Kosovo*  2019   0.44  \n",
      "\n",
      "[2356 rows x 7 columns]\n"
     ]
    }
   ],
   "source": [
    "df = df.dropna()\n",
    "print(df)\n",
    "\n"
   ]
  },
  {
   "cell_type": "code",
   "execution_count": 9,
   "metadata": {},
   "outputs": [
    {
     "name": "stdout",
     "output_type": "stream",
     "text": [
      "['Belgium' 'Bulgaria' 'Czechia' 'Denmark' 'Germany' 'Greece' 'Spain'\n",
      " 'France' 'Croatia' 'Italy' 'Cyprus' 'Latvia' 'Lithuania' 'Luxembourg'\n",
      " 'Hungary' 'Malta' 'Austria' 'Poland' 'Portugal' 'Romania' 'Slovenia'\n",
      " 'Slovakia' 'Finland' 'Sweden' 'Switzerland' 'Bosnia and Herzegovina'\n",
      " 'Montenegro' 'Albania' 'Serbia' 'Türkiye' 'Kosovo*' 'Estonia'\n",
      " 'Netherlands' 'North Macedonia']\n"
     ]
    }
   ],
   "source": [
    "print(df['geo'].unique())"
   ]
  },
  {
   "cell_type": "code",
   "execution_count": 10,
   "metadata": {},
   "outputs": [
    {
     "name": "stdout",
     "output_type": "stream",
     "text": [
      "['2016' '2017' '2018' '2019' '2020' '2021' '2022']\n"
     ]
    }
   ],
   "source": [
    "print(df['time'].unique())"
   ]
  },
  {
   "cell_type": "code",
   "execution_count": 11,
   "metadata": {},
   "outputs": [
    {
     "name": "stdout",
     "output_type": "stream",
     "text": [
      "[]\n",
      "Empty DataFrame\n",
      "Columns: [freq, leg_stat, sex, unit, geo, time, value]\n",
      "Index: []\n"
     ]
    }
   ],
   "source": [
    "eu_27_df = df[df['geo'] == 'European Union - 27 countries (from 2020)']\n",
    "\n",
    "# Gib die Werte für die Jahre aus\n",
    "print(eu_27_df['time'].unique())\n",
    "\n",
    "print(eu_27_df)"
   ]
  },
  {
   "cell_type": "code",
   "execution_count": null,
   "metadata": {},
   "outputs": [],
   "source": []
  }
 ],
 "metadata": {
  "kernelspec": {
   "display_name": "venv",
   "language": "python",
   "name": "python3"
  },
  "language_info": {
   "codemirror_mode": {
    "name": "ipython",
    "version": 3
   },
   "file_extension": ".py",
   "mimetype": "text/x-python",
   "name": "python",
   "nbconvert_exporter": "python",
   "pygments_lexer": "ipython3",
   "version": "3.10.16"
  }
 },
 "nbformat": 4,
 "nbformat_minor": 4
}
