{
 "cells": [
  {
   "cell_type": "markdown",
   "metadata": {},
   "source": [
    "# Question: How does the urbanisation impact the crime level in an area?"
   ]
  },
  {
   "cell_type": "code",
   "execution_count": 2,
   "metadata": {},
   "outputs": [],
   "source": [
    "import pandas as pd\n",
    "import plotly.express as px\n",
    "import dash\n",
    "from dash import dcc, html\n",
    "from dash.dependencies import Input, Output\n",
    "import ipywidgets as widgets\n",
    "from IPython.display import display\n",
    "from joypy import joyplot\n",
    "from es_ds_loader import *"
   ]
  },
  {
   "cell_type": "code",
   "execution_count": 14,
   "metadata": {},
   "outputs": [],
   "source": [
    "loader = EurostatDataLoader(cache_expiry=1800)\n",
    "df = loader.load_dataset('hlth_dhc130')"
   ]
  },
  {
   "cell_type": "code",
   "execution_count": 18,
   "metadata": {},
   "outputs": [
    {
     "name": "stdout",
     "output_type": "stream",
     "text": [
      "         freq        unit lev_limit                  age      sex  \\\n",
      "0      Annual  Percentage     Total  From 16 to 24 years    Total   \n",
      "1      Annual  Percentage     Total  From 16 to 24 years    Total   \n",
      "2      Annual  Percentage     Total  From 16 to 24 years    Total   \n",
      "3      Annual  Percentage     Total  From 16 to 24 years    Total   \n",
      "4      Annual  Percentage     Total  From 16 to 24 years    Total   \n",
      "...       ...         ...       ...                  ...      ...   \n",
      "72895  Annual  Percentage      None     65 years or over  Females   \n",
      "72896  Annual  Percentage      None     65 years or over  Females   \n",
      "72897  Annual  Percentage      None     65 years or over  Females   \n",
      "72898  Annual  Percentage      None     65 years or over  Females   \n",
      "72899  Annual  Percentage      None     65 years or over  Females   \n",
      "\n",
      "                                                     geo  time  value  \n",
      "0      European Union (EU6-1958, EU9-1973, EU10-1981,...  2010   15.2  \n",
      "1      European Union (EU6-1958, EU9-1973, EU10-1981,...  2011   14.9  \n",
      "2      European Union (EU6-1958, EU9-1973, EU10-1981,...  2012   14.5  \n",
      "3      European Union (EU6-1958, EU9-1973, EU10-1981,...  2013   14.6  \n",
      "4      European Union (EU6-1958, EU9-1973, EU10-1981,...  2014   14.9  \n",
      "...                                                  ...   ...    ...  \n",
      "72895                                            Kosovo*  2017    NaN  \n",
      "72896                                            Kosovo*  2018    1.0  \n",
      "72897                                            Kosovo*  2019    NaN  \n",
      "72898                                            Kosovo*  2020    NaN  \n",
      "72899                                            Kosovo*  2023    NaN  \n",
      "\n",
      "[72900 rows x 8 columns]\n"
     ]
    }
   ],
   "source": [
    "print(df)"
   ]
  },
  {
   "cell_type": "markdown",
   "metadata": {},
   "source": [
    "Plot 1: Crime trends by age group over time\n",
    "Joyplot: x-axis = year, y-axis = age groups, parameter = countries\n",
    "\n"
   ]
  },
  {
   "cell_type": "code",
   "execution_count": 1,
   "metadata": {},
   "outputs": [
    {
     "ename": "NameError",
     "evalue": "name 'df' is not defined",
     "output_type": "error",
     "traceback": [
      "\u001b[0;31m---------------------------------------------------------------------------\u001b[0m",
      "\u001b[0;31mNameError\u001b[0m                                 Traceback (most recent call last)",
      "Cell \u001b[0;32mIn[1], line 1\u001b[0m\n\u001b[0;32m----> 1\u001b[0m \u001b[38;5;28mprint\u001b[39m(\u001b[43mdf\u001b[49m[\u001b[38;5;124m'\u001b[39m\u001b[38;5;124mage\u001b[39m\u001b[38;5;124m'\u001b[39m]\u001b[38;5;241m.\u001b[39munique())\n",
      "\u001b[0;31mNameError\u001b[0m: name 'df' is not defined"
     ]
    }
   ],
   "source": [
    "print(df['age'].unique())"
   ]
  },
  {
   "cell_type": "code",
   "execution_count": null,
   "metadata": {},
   "outputs": [],
   "source": []
  }
 ],
 "metadata": {
  "kernelspec": {
   "display_name": "venv",
   "language": "python",
   "name": "python3"
  },
  "language_info": {
   "codemirror_mode": {
    "name": "ipython",
    "version": 3
   },
   "file_extension": ".py",
   "mimetype": "text/x-python",
   "name": "python",
   "nbconvert_exporter": "python",
   "pygments_lexer": "ipython3",
   "version": "3.10.16"
  }
 },
 "nbformat": 4,
 "nbformat_minor": 4
}
